{
 "cells": [
  {
   "cell_type": "markdown",
   "id": "fadfe6c5",
   "metadata": {},
   "source": [
    "### 1. Setup the database"
   ]
  },
  {
   "cell_type": "code",
   "execution_count": 1,
   "id": "82a5971b",
   "metadata": {},
   "outputs": [
    {
     "name": "stdout",
     "output_type": "stream",
     "text": [
      "Cursor is created to communicate with the MySQL using Python.\n",
      "The database 'LittleLemonDB' is set for use.\n"
     ]
    }
   ],
   "source": [
    "#*********************************************************************#\n",
    "# \"LittleLemonDB\" MySQL database instance in localhost is required for \n",
    "# for MySQL/Python connection.\n",
    "# \n",
    "# The \"user_info.py\" file includes username and password for the \n",
    "# localhost database login. It is require to be in the same directory \n",
    "# as this Jupyer Notebook.\n",
    "#*********************************************************************#\n",
    "\n",
    "from user_info import *\n",
    "import mysql.connector as connector\n",
    "\n",
    "# Establish connection to MySQL localhost database\n",
    "connection=connector.connect(user=username,password=password)\n",
    "\n",
    "# Create cursor object to communicate with entire MySQL database\n",
    "cursor = connection.cursor()\n",
    "print(\"Cursor is created to communicate with the MySQL using Python.\")\n",
    "\n",
    "# Set little_lemon database for use \n",
    "cursor.execute(\"USE LittleLemonDB\")\n",
    "print(\"The database 'LittleLemonDB' is set for use.\")\n"
   ]
  },
  {
   "cell_type": "code",
   "execution_count": 2,
   "id": "43cc8cc7",
   "metadata": {},
   "outputs": [
    {
     "name": "stdout",
     "output_type": "stream",
     "text": [
      "'LittleLemonDB' Tables:\n",
      "('bookings',)\n",
      "('customers',)\n",
      "('menu',)\n",
      "('menuitems',)\n",
      "('orders',)\n",
      "('ordersview',)\n",
      "('staff',)\n"
     ]
    }
   ],
   "source": [
    "# Tables included in the LittleLemonDB database:\n",
    "print(\"'LittleLemonDB' Tables:\")\n",
    "cursor.execute('show tables')\n",
    "results = cursor.fetchall()\n",
    "for result in results:\n",
    "    print(result)\n"
   ]
  },
  {
   "cell_type": "code",
   "execution_count": 3,
   "id": "b7033733",
   "metadata": {},
   "outputs": [
    {
     "data": {
      "text/plain": [
       "True"
      ]
     },
     "execution_count": 3,
     "metadata": {},
     "output_type": "execute_result"
    }
   ],
   "source": [
    "# check the connection to database\n",
    "connection.is_connected()"
   ]
  },
  {
   "cell_type": "markdown",
   "id": "dab9f69d",
   "metadata": {},
   "source": [
    "#### - Populate `MenuItems` table in the database with data:"
   ]
  },
  {
   "cell_type": "code",
   "execution_count": 4,
   "id": "adb525c9",
   "metadata": {},
   "outputs": [
    {
     "name": "stdout",
     "output_type": "stream",
     "text": [
      "Inserting data in MenuItems table.\n",
      "Total number of rows in MenuItem table: 16\n",
      "\n"
     ]
    }
   ],
   "source": [
    "#*******************************************************#\n",
    "# Insert query to populate \"MenuItems\" table: \n",
    "#*******************************************************#\n",
    "cursor.execute('DELETE FROM MenuItems')\n",
    "insert_menuitems=\"\"\"\n",
    "INSERT INTO MenuItems (MenuItemID, Name, Type, Price)\n",
    "VALUES\n",
    "(1,'Olives','Starters',5),\n",
    "(2,'Flatbread','Starters', 5),\n",
    "(3, 'Minestrone', 'Starters', 8),\n",
    "(4, 'Tomato bread','Starters', 8),\n",
    "(5, 'Falafel', 'Starters', 7),\n",
    "(6, 'Hummus', 'Starters', 5),\n",
    "(7, 'Greek salad', 'Main Courses', 15),\n",
    "(8, 'Bean soup', 'Main Courses', 12),\n",
    "(9, 'Pizza', 'Main Courses', 15),\n",
    "(10,'Greek yoghurt','Desserts', 7),\n",
    "(11, 'Ice cream', 'Desserts', 6),\n",
    "(12, 'Cheesecake', 'Desserts', 4),\n",
    "(13, 'Athens White wine', 'Drinks', 25),\n",
    "(14, 'Corfu Red Wine', 'Drinks', 30),\n",
    "(15, 'Turkish Coffee', 'Drinks', 10),\n",
    "(16, 'Kabasa', 'Main Courses', 17);\"\"\"\n",
    "\n",
    "print(\"Inserting data in MenuItems table.\")\n",
    "# Populate MenuItems table\n",
    "cursor.execute(insert_menuitems)\n",
    "print(\"Total number of rows in MenuItem table: {}\\n\".format(cursor.rowcount))\n",
    "# Once the query is executed,  commit the change to the database \n",
    "connection.commit()"
   ]
  },
  {
   "cell_type": "markdown",
   "id": "aa0c8c9c",
   "metadata": {},
   "source": [
    "#### - Populate `Menu` table in the database with data:"
   ]
  },
  {
   "cell_type": "code",
   "execution_count": 5,
   "id": "ee1b7bf9",
   "metadata": {},
   "outputs": [
    {
     "name": "stdout",
     "output_type": "stream",
     "text": [
      "Inserting data in Menus table.\n",
      "Total number of rows in Menu table: 12\n",
      "\n"
     ]
    }
   ],
   "source": [
    "#*******************************************************#\n",
    "# Insert query to populate \"Menu\" table: \n",
    "#*******************************************************#\n",
    "cursor.execute('DELETE FROM Menu')\n",
    "insert_menus=\"\"\"\n",
    "INSERT INTO Menu (MenuID, Cusine, Starter, Course, Drinks, Desert)\n",
    "VALUES\n",
    "(1, 'Greek', 1, 7, 13, 10),\n",
    "(2, 'Greek', 6, 7, 13, 11),\n",
    "(3, 'Greek', 5, 7, 13, 12),\n",
    "(4, 'Greek', 3, 7, 13, 10),\n",
    "(5, 'Italian', 2, 9, 14, 10),\n",
    "(6, 'Italian', 1, 9, 14, 11),\n",
    "(7, 'Italian', 3, 9, 14, 12),\n",
    "(8, 'Italian', 3, 9, 14, 10),\n",
    "(9, 'Turkish', 1, 8, 15, 10),\n",
    "(10, 'Turkish', 2, 8, 15, 11),\n",
    "(11, 'Turkish', 4, 16, 15, 12),\n",
    "(12, 'Turkish', 5, 16, 15, 10);\"\"\"\n",
    "\n",
    "print(\"Inserting data in Menus table.\")\n",
    "# Populate Menus table\n",
    "cursor.execute(insert_menus)\n",
    "print(\"Total number of rows in Menu table: {}\\n\".format(cursor.rowcount))\n",
    "connection.commit()\n"
   ]
  },
  {
   "cell_type": "markdown",
   "id": "478e7a1d",
   "metadata": {},
   "source": [
    "#### - Populate the `Bookings` table in the database with data:"
   ]
  },
  {
   "cell_type": "code",
   "execution_count": 6,
   "id": "c4a96450",
   "metadata": {},
   "outputs": [
    {
     "name": "stdout",
     "output_type": "stream",
     "text": [
      "Inserting data in Bookings table.\n",
      "Total number of rows in Bookings table: 6\n",
      "\n"
     ]
    }
   ],
   "source": [
    "#*******************************************************#\n",
    "# Insert query to populate \"Bookings\" table: \n",
    "#*******************************************************#\n",
    "cursor.execute('DELETE FROM Bookings')\n",
    "insert_bookings=\"\"\"\n",
    "INSERT INTO Bookings (BookingID, Date, TableNumber, CustomerID, StaffID)\n",
    "VALUES\n",
    "(1, '2023-12-01',12, 1, 1),\n",
    "(2, '2023-06-08', 12, 2, 1),\n",
    "(3, '2023-07-01', 19, 3, 3),\n",
    "(4, '2023-08-02', 15, 1, 4),\n",
    "(5, '2023-05-03', 5,  4, 2),\n",
    "(6, '2023-04-09', 8,  5, 5);\"\"\"\n",
    "\n",
    "print(\"Inserting data in Bookings table.\")\n",
    "# Populate Bookings table\n",
    "cursor.execute(insert_bookings)\n",
    "print(\"Total number of rows in Bookings table: {}\\n\".format(cursor.rowcount))\n",
    "connection.commit()\n"
   ]
  },
  {
   "cell_type": "markdown",
   "id": "c2c77bc6",
   "metadata": {},
   "source": [
    "#### - Populate the `Customers` table in the database with data:"
   ]
  },
  {
   "cell_type": "code",
   "execution_count": 7,
   "id": "d91aab68",
   "metadata": {},
   "outputs": [
    {
     "name": "stdout",
     "output_type": "stream",
     "text": [
      "Inserting data into Customers table.\n",
      "Total number of rows in Customers table: 6\n",
      "\n"
     ]
    }
   ],
   "source": [
    "#*******************************************************#\n",
    "# Insert query to populate \"Customers\" table: \n",
    "#*******************************************************#\n",
    "cursor.execute('DELETE FROM Customers')\n",
    "insert_customers=\"\"\"\n",
    "INSERT INTO Customers (CustomerID, Name, ContactDetail)\n",
    "VALUES\n",
    "(1, 'Iversen','453-234-5678'),\n",
    "(2, 'Joakim', '212-323-7654'),\n",
    "(3, 'Vanessa', '212-453-9967'),\n",
    "(4, 'Marcos', '450-223-1756'),\n",
    "(5, 'Hiroki', '235-347-1234'),\n",
    "(6, 'Diana', '212-457-8967');\"\"\"\n",
    "\n",
    "print(\"Inserting data into Customers table.\")\n",
    "# Populate Bookings table\n",
    "cursor.execute(insert_customers)\n",
    "print(\"Total number of rows in Customers table: {}\\n\".format(cursor.rowcount))\n",
    "connection.commit()\n"
   ]
  },
  {
   "cell_type": "markdown",
   "id": "38447fb2",
   "metadata": {},
   "source": [
    "#### - Populate the `Orders` table with data"
   ]
  },
  {
   "cell_type": "code",
   "execution_count": 8,
   "id": "ab2cf229",
   "metadata": {},
   "outputs": [
    {
     "name": "stdout",
     "output_type": "stream",
     "text": [
      "Inserting data in Orders table.\n",
      "Total number of rows in Orders table: 5\n",
      "\n"
     ]
    }
   ],
   "source": [
    "#*******************************************************#\n",
    "# Insert query to populate \"Orders\" table is:\n",
    "#*******************************************************#\n",
    "cursor.execute('DELETE FROM Orders')\n",
    "insert_orders=\"\"\"\n",
    "INSERT INTO Orders (OrderID, Date, Quantity, DeliveryStatus, TotalCost, MenuID, BookingID)\n",
    "VALUES\n",
    "(1, '2023-12-09', 3, 'Delivered', 126, 2,4),\n",
    "(2, '2023-12-09', 1, 'Delivered', 37, 3,1),\n",
    "(3, '2023-12-09', 5, 'Delivered', 317, 9, 2),\n",
    "(4, '2023-12-09', 3, 'Pending', 175, 5, 3),\n",
    "(5, '2023-12-09', 1, 'Sent',43, 10,5);\"\"\"\n",
    "\n",
    "print(\"Inserting data in Orders table.\")\n",
    "# Populate Orders table\n",
    "cursor.execute(insert_orders)\n",
    "print(\"Total number of rows in Orders table: {}\\n\".format(cursor.rowcount))\n",
    "connection.commit()\n"
   ]
  },
  {
   "cell_type": "markdown",
   "id": "5878f230",
   "metadata": {},
   "source": [
    "#### - Populate the `Staff` table in the database with data:"
   ]
  },
  {
   "cell_type": "code",
   "execution_count": 9,
   "id": "b44fda90",
   "metadata": {},
   "outputs": [
    {
     "name": "stdout",
     "output_type": "stream",
     "text": [
      "Inserting data in the Staff table.\n",
      "Total number of rows in the Staff table:  6\n"
     ]
    }
   ],
   "source": [
    "#*******************************************************#\n",
    "# Insert query to populate \"Staff\" table: \n",
    "#*******************************************************#\n",
    "cursor.execute('DELETE FROM Staff')\n",
    "insert_staff=\"\"\"\n",
    "INSERT INTO Staff (StaffID, Name, Role, Salary)\n",
    "VALUES\n",
    "(1,'Mario Gollini','Manager', 70000),\n",
    "(2,'Adrian Gollini','Assistant Manager',65000),\n",
    "(3,'Giorgos Dioudis','Head Chef', 50000),\n",
    "(4,'Fatma Kaya','Assistant Chef',45000),\n",
    "(5,'Elena Salvai','Head Waiter',40000),\n",
    "(6,'John Millar','Receptionist',35000);\"\"\"\n",
    "\n",
    "print(\"Inserting data in the Staff table.\")\n",
    "# Populate Employees table\n",
    "cursor.execute(insert_staff)\n",
    "print(\"Total number of rows in the Staff table: \", cursor.rowcount)\n",
    "# Once the query is executed, you can commit the change to the database \n",
    "connection.commit()"
   ]
  },
  {
   "cell_type": "markdown",
   "id": "a4a85abd",
   "metadata": {},
   "source": [
    "### Week 2. Exercise: Create a virtual table to summarize data\n",
    "#### Task 1. Create a VIEW named `OrdersView` using `Orders` table:"
   ]
  },
  {
   "cell_type": "code",
   "execution_count": 10,
   "id": "1ba00605",
   "metadata": {},
   "outputs": [
    {
     "name": "stdout",
     "output_type": "stream",
     "text": [
      "The view 'OrdersView' output:\n",
      "['OrderID', 'Quantity', 'Cost']\n",
      "(1, 3, Decimal('126.00'))\n",
      "(3, 5, Decimal('317.00'))\n",
      "(4, 3, Decimal('175.00'))\n"
     ]
    }
   ],
   "source": [
    "#*******************************************************#\n",
    "# Implement \"OrdersView\" virtual table (i.e. view): \n",
    "#*******************************************************#\n",
    "cursor.execute(\"DROP VIEW IF EXISTS OrdersView\")\n",
    "view_query=\"\"\"\n",
    "CREATE VIEW OrdersView as\n",
    "SELECT OrderID, Quantity, TotalCost as Cost\n",
    "FROM Orders\n",
    "WHERE Quantity > 2;\n",
    "\"\"\"\n",
    "cursor.execute(view_query)\n",
    "print(\"The view 'OrdersView' output:\")\n",
    "cursor.execute(\"SELECT * FROM OrdersView\")\n",
    "results = cursor.fetchall()\n",
    "print(list(cursor.column_names))\n",
    "for result in results:\n",
    "    print(result)"
   ]
  },
  {
   "cell_type": "markdown",
   "id": "49ccdc84",
   "metadata": {},
   "source": [
    "#### Task 2. Use `JOIN` clause to display results from `Customers`, `Orders`, `Menu` and `MenuItems` tables:"
   ]
  },
  {
   "cell_type": "code",
   "execution_count": 11,
   "id": "2caf97df",
   "metadata": {},
   "outputs": [
    {
     "name": "stdout",
     "output_type": "stream",
     "text": [
      "['CustomerID', 'CustomerName', 'OrderID', 'Cost', 'Cusine', 'CourseName']\n",
      "(2, 'Joakim', 3, Decimal('317.00'), 'Turkish', 'Bean soup')\n",
      "(3, 'Vanessa', 4, Decimal('175.00'), 'Italian', 'Pizza')\n"
     ]
    }
   ],
   "source": [
    "#*******************************************************#\n",
    "# Select query to display customers spent more than $150.00: \n",
    "#*******************************************************#\n",
    "join_query=\"\"\"\n",
    "SELECT \n",
    "    Customers.CustomerID, \n",
    "    Customers.Name as CustomerName, \n",
    "    Orders.OrderID, \n",
    "    Orders.TotalCost as Cost, \n",
    "    Cusine, \n",
    "    MenuItems.Name as CourseName\n",
    "FROM Orders\n",
    "JOIN Bookings\n",
    "    ON Orders.BookingID = Bookings.BookingID\n",
    "JOIN Customers\n",
    "    ON Bookings.CustomerID = Customers.CustomerID\n",
    "JOIN Menu \n",
    "    ON Menu.MenuID = Orders.MenuID\n",
    "JOIN MenuItems\n",
    "    ON Menu.Course = MenuITems.MenuItemID\n",
    "WHERE Orders.TotalCost > 150\n",
    "\"\"\"\n",
    "cursor.execute(join_query)\n",
    "results = cursor.fetchall()\n",
    "print(list(cursor.column_names))\n",
    "for result in results:\n",
    "    print(result)"
   ]
  },
  {
   "cell_type": "markdown",
   "id": "6779d326",
   "metadata": {},
   "source": [
    "#### Task 3. Find menu items with for which more than 2 orders have been placed using subquery and `ANY` operator:"
   ]
  },
  {
   "cell_type": "code",
   "execution_count": 12,
   "id": "d32bdd47",
   "metadata": {},
   "outputs": [
    {
     "name": "stdout",
     "output_type": "stream",
     "text": [
      "['CourseName']\n",
      "('Greek salad',)\n",
      "('Bean soup',)\n",
      "('Pizza',)\n"
     ]
    }
   ],
   "source": [
    "#******************************************************************#\n",
    "# Select query to display Menu items order quantity greater than 2: \n",
    "#******************************************************************#\n",
    "sub_query=\"\"\"\n",
    "SELECT MenuItems.Name as CourseName\n",
    "FROM MenuItems\n",
    "JOIN Menu \n",
    "    ON Menu.Course = MenuItems.MenuItemID\n",
    "WHERE Menu.MenuID = ANY (SELECT MenuID FROM Orders WHERE Quantity > 2)\n",
    "\"\"\"\n",
    "cursor.execute(sub_query)\n",
    "results = cursor.fetchall()\n",
    "print(list(cursor.column_names))\n",
    "for result in results:\n",
    "    print(result)"
   ]
  },
  {
   "cell_type": "markdown",
   "id": "7e6aa867",
   "metadata": {},
   "source": [
    "### Week 2 Exercise: Create optimized queries to manage and analyze data\n",
    "#### Task 1. Implement `GetMaxQuantity()` procedure:"
   ]
  },
  {
   "cell_type": "code",
   "execution_count": 13,
   "id": "a452845f",
   "metadata": {},
   "outputs": [
    {
     "name": "stdout",
     "output_type": "stream",
     "text": [
      "['MaxQuantity']\n",
      "(5,)\n"
     ]
    }
   ],
   "source": [
    "#*******************************************************#\n",
    "# \"GetMaxQuantity\" stored procedure\n",
    "#*******************************************************#\n",
    "cursor.execute(\"DROP PROCEDURE IF EXISTS GetMaxQuantity\")\n",
    "proc_query = \"\"\"\n",
    "CREATE PROCEDURE GetMaxQuantity()\n",
    "SELECT MAX(Quantity) as MaxQuantity FROM Orders\n",
    "\"\"\"\n",
    "cursor.execute(proc_query)\n",
    "cursor.callproc(\"GetMaxQuantity\")\n",
    "\n",
    "dataset = next(cursor.stored_results() )\n",
    "results = dataset.fetchall()\n",
    "print(list(dataset.column_names))\n",
    "for result in results:\n",
    "    print(result)\n"
   ]
  },
  {
   "cell_type": "markdown",
   "id": "ef6b9aaf",
   "metadata": {},
   "source": [
    "#### Task 2. Implement `GetOrderDetail` prepared statment:"
   ]
  },
  {
   "cell_type": "code",
   "execution_count": 14,
   "id": "01106314",
   "metadata": {},
   "outputs": [
    {
     "name": "stdout",
     "output_type": "stream",
     "text": [
      "['OrderID', 'Quantity', 'Cost']\n",
      "(3, 5, Decimal('317.00'))\n"
     ]
    }
   ],
   "source": [
    "#*******************************************************#\n",
    "# \"GetOrderDetail\" prepared statement\n",
    "#*******************************************************#\n",
    "prep_query=\"\"\"\n",
    "prepare GetOrderDetail FROM 'SELECT OrderID, Quantity, \n",
    "TotalCost as Cost \n",
    "    FROM Orders \n",
    "    JOIN Bookings\n",
    "on Orders.BookingID = Bookings.BookingID\n",
    "WHERE Bookings.CustomerID = ?'\n",
    "\"\"\"\n",
    "cursor.execute(prep_query)\n",
    "cursor.execute(\"SET @cust_id = 2\")\n",
    "cursor.execute(\"Execute GetOrderDetail using @cust_id\")\n",
    "results = cursor.fetchall()\n",
    "print(list(cursor.column_names))\n",
    "for result in results:\n",
    "    print(result)\n"
   ]
  },
  {
   "cell_type": "markdown",
   "id": "2773fee5",
   "metadata": {},
   "source": [
    "#### Task 3. Implement `CancelOrder()` stored procedure:"
   ]
  },
  {
   "cell_type": "code",
   "execution_count": 15,
   "id": "dda15acc",
   "metadata": {},
   "outputs": [
    {
     "name": "stdout",
     "output_type": "stream",
     "text": [
      "\n",
      "After calling 'CancelOrder' procedure:\n",
      "['OrderID', 'Date', 'Quantity', 'DeliveryStatus', 'TotalCost', 'MenuID', 'BookingID']\n",
      "(2, datetime.date(2023, 12, 9), 1, 'Delivered', Decimal('37.00'), 3, 1)\n",
      "(3, datetime.date(2023, 12, 9), 5, 'Delivered', Decimal('317.00'), 9, 2)\n",
      "(4, datetime.date(2023, 12, 9), 3, 'Pending', Decimal('175.00'), 5, 3)\n",
      "(5, datetime.date(2023, 12, 9), 1, 'Sent', Decimal('43.00'), 10, 5)\n"
     ]
    }
   ],
   "source": [
    "#*******************************************************#\n",
    "# \"CancelOrder\" stored procedure: \n",
    "#*******************************************************#\n",
    "cursor.execute(\"DROP PROCEDURE IF EXISTS CancelOrder\")\n",
    "proc_query = \"\"\"\n",
    "CREATE PROCEDURE CancelOrder(in order_id int)\n",
    "DELETE FROM Orders where OrderID = order_id;\n",
    "\"\"\"\n",
    "cursor.execute(proc_query)\n",
    "cursor.callproc(\"CancelOrder\",(1,))\n",
    "#cursor.commit()\n",
    "print(\"\\nAfter calling 'CancelOrder' procedure:\")\n",
    "cursor.execute(\"SELECT * FROM Orders\")\n",
    "results = cursor.fetchall()\n",
    "print(list(cursor.column_names))\n",
    "for result in results:\n",
    "    print(result)\n",
    "    "
   ]
  },
  {
   "cell_type": "markdown",
   "id": "d66bb355",
   "metadata": {},
   "source": [
    "### Week 2 Exercise: Create SQL queries to check available bookings based on user input\n",
    "#### Task 1. Populate the `Bookings` table:"
   ]
  },
  {
   "cell_type": "code",
   "execution_count": 16,
   "id": "a837a495",
   "metadata": {},
   "outputs": [
    {
     "name": "stdout",
     "output_type": "stream",
     "text": [
      "Inserting data in Bookings table.\n",
      "Total number of rows in Bookings table: 4\n",
      "\n",
      "\n",
      "Bookings Table:\n",
      "['BookingID', 'Date', 'TableNumber', 'CustomerID']\n",
      "1 \t\t 2022-10-10 \t 5 \t 1\n",
      "2 \t\t 2022-11-12 \t 3 \t 3\n",
      "3 \t\t 2022-10-11 \t 2 \t 2\n",
      "4 \t\t 2022-10-13 \t 2 \t 1\n"
     ]
    }
   ],
   "source": [
    "#*******************************************************#\n",
    "# Insert query to populate \"Bookings\" table: \n",
    "#*******************************************************#\n",
    "cursor.execute('DELETE FROM Bookings')\n",
    "insert_bookings=\"\"\"\n",
    "INSERT INTO Bookings (BookingID, Date, TableNumber, CustomerID, StaffID)\n",
    "VALUES\n",
    "(1, '2022-10-10', 5, 1, 1),\n",
    "(2, '2022-11-12', 3, 3, 1),\n",
    "(3, '2022-10-11', 2, 2, 3),\n",
    "(4, '2022-10-13', 2, 1, 4);\"\"\"\n",
    "\n",
    "print(\"Inserting data in Bookings table.\")\n",
    "# Populate Bookings table\n",
    "cursor.execute(insert_bookings)\n",
    "print(\"Total number of rows in Bookings table: {}\\n\".format(cursor.rowcount))\n",
    "connection.commit()\n",
    "cursor.execute(\"SELECT BookingID, Date, TableNumber, CustomerID FROM Bookings\")\n",
    "print(\"\\nBookings Table:\")\n",
    "results = cursor.fetchall()\n",
    "print(list(cursor.column_names))\n",
    "for result in results:\n",
    "    print(result[0],'\\t\\t',result[1],'\\t',result[2],'\\t',result[3])"
   ]
  },
  {
   "cell_type": "markdown",
   "id": "8054733c",
   "metadata": {},
   "source": [
    "#### Task 2. Implement and test `CheckBooking()` stored procedure:"
   ]
  },
  {
   "cell_type": "code",
   "execution_count": 17,
   "id": "0a9fe6f1",
   "metadata": {},
   "outputs": [
    {
     "name": "stdout",
     "output_type": "stream",
     "text": [
      "['BookingStatus']\n",
      "('Table 3 is already booked.',)\n"
     ]
    }
   ],
   "source": [
    "#*******************************************************#\n",
    "# \"CheckBooking\" stored procedure: \n",
    "#*******************************************************#\n",
    "cursor.execute(\"DROP PROCEDURE IF EXISTS CheckBooking\")\n",
    "proc_query = \"\"\"\n",
    "CREATE PROCEDURE CheckBooking(in booking_date date, in table_number int)\n",
    "BEGIN\n",
    "    DECLARE booked INT DEFAULT 0;\n",
    "    SELECT Count(TableNumber) INTO booked\n",
    "    FROM Bookings WHERE Date = booking_date AND TableNumber = table_number;\n",
    "    IF booked > 0 THEN\n",
    "        SELECT Concat(\"Table \", table_number, \" is already booked.\") as BookingStatus;\n",
    "    ELSE\n",
    "        SELECT Concat(\"Table \", table_number, \"is available for booking.\") as BookingStatus;\n",
    "    END IF;\n",
    "END;\n",
    "\"\"\"\n",
    "cursor.execute(proc_query)\n",
    "cursor.callproc(\"CheckBooking\",('2022-11-12',3))\n",
    "\n",
    "dataset = next(cursor.stored_results())\n",
    "results = dataset.fetchall()\n",
    "print(list(dataset.column_names))\n",
    "for result in results:\n",
    "    print(result)"
   ]
  },
  {
   "cell_type": "markdown",
   "id": "c161060b",
   "metadata": {},
   "source": [
    "#### Task 3. Implement `AddValidBooking()` procedure:"
   ]
  },
  {
   "cell_type": "code",
   "execution_count": 18,
   "id": "ecdb9584",
   "metadata": {},
   "outputs": [
    {
     "name": "stdout",
     "output_type": "stream",
     "text": [
      "['BookingStatus']\n",
      "('Table 3 is already booked - booking cancelled.',)\n"
     ]
    }
   ],
   "source": [
    "#*******************************************************#\n",
    "# \"AddValidBooking\" stored procedure: \n",
    "#*******************************************************#\n",
    "cursor.execute(\"DROP PROCEDURE IF EXISTS AddValidBooking\")\n",
    "proc_query = \"\"\"\n",
    "CREATE PROCEDURE AddValidBooking(in booking_date date, in table_number int)\n",
    "BEGIN\n",
    "    DECLARE booked INT DEFAULT 0;\n",
    "    SELECT Count(TableNumber) INTO booked\n",
    "    FROM Bookings WHERE Date = booking_date AND TableNumber = table_number;\n",
    "    IF booked > 0 THEN\n",
    "        SELECT Concat(\"Table \", table_number, \" is already booked - booking cancelled.\") as BookingStatus;\n",
    "    ELSE\n",
    "        SELECT Concat(\"Table \", table_number, \" is available for booking.\") as BookingStatus;\n",
    "    END IF;\n",
    "END;\n",
    "\"\"\"\n",
    "cursor.execute(proc_query)\n",
    "cursor.callproc(\"AddValidBooking\",('2022-11-12',3))\n",
    "\n",
    "dataset = next(cursor.stored_results())\n",
    "results = dataset.fetchall()\n",
    "print(list(dataset.column_names))\n",
    "for result in results:\n",
    "    print(result)"
   ]
  },
  {
   "cell_type": "code",
   "execution_count": null,
   "id": "b1093f9f",
   "metadata": {},
   "outputs": [],
   "source": []
  }
 ],
 "metadata": {
  "kernelspec": {
   "display_name": "Python 3",
   "language": "python",
   "name": "python3"
  },
  "language_info": {
   "codemirror_mode": {
    "name": "ipython",
    "version": 3
   },
   "file_extension": ".py",
   "mimetype": "text/x-python",
   "name": "python",
   "nbconvert_exporter": "python",
   "pygments_lexer": "ipython3",
   "version": "3.7.4"
  }
 },
 "nbformat": 4,
 "nbformat_minor": 5
}
